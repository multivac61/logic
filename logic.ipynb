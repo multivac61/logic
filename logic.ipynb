{
 "cells": [
  {
   "cell_type": "code",
   "execution_count": 4,
   "metadata": {
    "collapsed": true,
    "ExecuteTime": {
     "end_time": "2023-08-30T10:57:42.972134Z",
     "start_time": "2023-08-30T10:57:42.970335Z"
    }
   },
   "outputs": [],
   "source": [
    "from sympy import symbols, satisfiable\n",
    "from sympy.logic.boolalg import Xnor, Implies, truth_table"
   ]
  },
  {
   "cell_type": "code",
   "execution_count": 5,
   "outputs": [],
   "source": [
    "p, q, r, s = symbols('p q r s')"
   ],
   "metadata": {
    "collapsed": false,
    "ExecuteTime": {
     "end_time": "2023-08-30T10:57:43.251863Z",
     "start_time": "2023-08-30T10:57:43.250244Z"
    }
   }
  },
  {
   "cell_type": "code",
   "execution_count": 6,
   "outputs": [],
   "source": [
    "s1 = Implies(~p, q)\n",
    "s2 = Xnor(p, s) # Bidirectional logic\n",
    "s3 = Implies(~q, r)\n",
    "s4 = Implies(~p, r)\n",
    "s5 = ~r"
   ],
   "metadata": {
    "collapsed": false,
    "ExecuteTime": {
     "end_time": "2023-08-30T10:57:43.600735Z",
     "start_time": "2023-08-30T10:57:43.599546Z"
    }
   }
  },
  {
   "cell_type": "code",
   "execution_count": 7,
   "outputs": [
    {
     "data": {
      "text/plain": "{q: True, p: True, s: True, r: False}"
     },
     "execution_count": 7,
     "metadata": {},
     "output_type": "execute_result"
    }
   ],
   "source": [
    "satisfiable(s1 & s2 & s3 & s4 & s5)"
   ],
   "metadata": {
    "collapsed": false,
    "ExecuteTime": {
     "end_time": "2023-08-30T10:57:44.422784Z",
     "start_time": "2023-08-30T10:57:44.384977Z"
    }
   }
  }
 ],
 "metadata": {
  "kernelspec": {
   "display_name": "Python 3",
   "language": "python",
   "name": "python3"
  },
  "language_info": {
   "codemirror_mode": {
    "name": "ipython",
    "version": 2
   },
   "file_extension": ".py",
   "mimetype": "text/x-python",
   "name": "python",
   "nbconvert_exporter": "python",
   "pygments_lexer": "ipython2",
   "version": "2.7.6"
  }
 },
 "nbformat": 4,
 "nbformat_minor": 0
}
